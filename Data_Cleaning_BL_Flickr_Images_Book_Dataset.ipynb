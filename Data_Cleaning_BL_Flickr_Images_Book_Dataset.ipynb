{
 "cells": [
  {
   "cell_type": "code",
   "execution_count": 45,
   "id": "874110db",
   "metadata": {},
   "outputs": [],
   "source": [
    "# Importing Libraries\n",
    "import numpy as np\n",
    "import pandas as pd\n",
    "import matplotlib.pyplot as plt\n",
    "import seaborn as sns"
   ]
  },
  {
   "cell_type": "code",
   "execution_count": 2,
   "id": "69f0a4b5",
   "metadata": {},
   "outputs": [],
   "source": [
    "# Read the data into python enviroment\n",
    "df=pd.read_csv(\"BL-Flickr-Images-Book.csv\")"
   ]
  },
  {
   "cell_type": "markdown",
   "id": "6c94966f",
   "metadata": {},
   "source": [
    "# Data Inspection"
   ]
  },
  {
   "cell_type": "code",
   "execution_count": 3,
   "id": "082f2220",
   "metadata": {},
   "outputs": [
    {
     "data": {
      "text/html": [
       "<div>\n",
       "<style scoped>\n",
       "    .dataframe tbody tr th:only-of-type {\n",
       "        vertical-align: middle;\n",
       "    }\n",
       "\n",
       "    .dataframe tbody tr th {\n",
       "        vertical-align: top;\n",
       "    }\n",
       "\n",
       "    .dataframe thead th {\n",
       "        text-align: right;\n",
       "    }\n",
       "</style>\n",
       "<table border=\"1\" class=\"dataframe\">\n",
       "  <thead>\n",
       "    <tr style=\"text-align: right;\">\n",
       "      <th></th>\n",
       "      <th>Identifier</th>\n",
       "      <th>Edition Statement</th>\n",
       "      <th>Place of Publication</th>\n",
       "      <th>Date of Publication</th>\n",
       "      <th>Publisher</th>\n",
       "      <th>Title</th>\n",
       "      <th>Author</th>\n",
       "      <th>Contributors</th>\n",
       "      <th>Corporate Author</th>\n",
       "      <th>Corporate Contributors</th>\n",
       "      <th>Former owner</th>\n",
       "      <th>Engraver</th>\n",
       "      <th>Issuance type</th>\n",
       "      <th>Flickr URL</th>\n",
       "      <th>Shelfmarks</th>\n",
       "    </tr>\n",
       "  </thead>\n",
       "  <tbody>\n",
       "    <tr>\n",
       "      <th>0</th>\n",
       "      <td>206</td>\n",
       "      <td>NaN</td>\n",
       "      <td>London</td>\n",
       "      <td>1879 [1878]</td>\n",
       "      <td>S. Tinsley &amp; Co.</td>\n",
       "      <td>Walter Forbes. [A novel.] By A. A</td>\n",
       "      <td>A. A.</td>\n",
       "      <td>FORBES, Walter.</td>\n",
       "      <td>NaN</td>\n",
       "      <td>NaN</td>\n",
       "      <td>NaN</td>\n",
       "      <td>NaN</td>\n",
       "      <td>monographic</td>\n",
       "      <td>http://www.flickr.com/photos/britishlibrary/ta...</td>\n",
       "      <td>British Library HMNTS 12641.b.30.</td>\n",
       "    </tr>\n",
       "    <tr>\n",
       "      <th>1</th>\n",
       "      <td>216</td>\n",
       "      <td>NaN</td>\n",
       "      <td>London; Virtue &amp; Yorston</td>\n",
       "      <td>1868</td>\n",
       "      <td>Virtue &amp; Co.</td>\n",
       "      <td>All for Greed. [A novel. The dedication signed...</td>\n",
       "      <td>A., A. A.</td>\n",
       "      <td>BLAZE DE BURY, Marie Pauline Rose - Baroness</td>\n",
       "      <td>NaN</td>\n",
       "      <td>NaN</td>\n",
       "      <td>NaN</td>\n",
       "      <td>NaN</td>\n",
       "      <td>monographic</td>\n",
       "      <td>http://www.flickr.com/photos/britishlibrary/ta...</td>\n",
       "      <td>British Library HMNTS 12626.cc.2.</td>\n",
       "    </tr>\n",
       "    <tr>\n",
       "      <th>2</th>\n",
       "      <td>218</td>\n",
       "      <td>NaN</td>\n",
       "      <td>London</td>\n",
       "      <td>1869</td>\n",
       "      <td>Bradbury, Evans &amp; Co.</td>\n",
       "      <td>Love the Avenger. By the author of “All for Gr...</td>\n",
       "      <td>A., A. A.</td>\n",
       "      <td>BLAZE DE BURY, Marie Pauline Rose - Baroness</td>\n",
       "      <td>NaN</td>\n",
       "      <td>NaN</td>\n",
       "      <td>NaN</td>\n",
       "      <td>NaN</td>\n",
       "      <td>monographic</td>\n",
       "      <td>http://www.flickr.com/photos/britishlibrary/ta...</td>\n",
       "      <td>British Library HMNTS 12625.dd.1.</td>\n",
       "    </tr>\n",
       "  </tbody>\n",
       "</table>\n",
       "</div>"
      ],
      "text/plain": [
       "   Identifier Edition Statement      Place of Publication Date of Publication  \\\n",
       "0         206               NaN                    London         1879 [1878]   \n",
       "1         216               NaN  London; Virtue & Yorston                1868   \n",
       "2         218               NaN                    London                1869   \n",
       "\n",
       "               Publisher                                              Title  \\\n",
       "0       S. Tinsley & Co.                  Walter Forbes. [A novel.] By A. A   \n",
       "1           Virtue & Co.  All for Greed. [A novel. The dedication signed...   \n",
       "2  Bradbury, Evans & Co.  Love the Avenger. By the author of “All for Gr...   \n",
       "\n",
       "      Author                                  Contributors  Corporate Author  \\\n",
       "0      A. A.                               FORBES, Walter.               NaN   \n",
       "1  A., A. A.  BLAZE DE BURY, Marie Pauline Rose - Baroness               NaN   \n",
       "2  A., A. A.  BLAZE DE BURY, Marie Pauline Rose - Baroness               NaN   \n",
       "\n",
       "   Corporate Contributors Former owner  Engraver Issuance type  \\\n",
       "0                     NaN          NaN       NaN   monographic   \n",
       "1                     NaN          NaN       NaN   monographic   \n",
       "2                     NaN          NaN       NaN   monographic   \n",
       "\n",
       "                                          Flickr URL  \\\n",
       "0  http://www.flickr.com/photos/britishlibrary/ta...   \n",
       "1  http://www.flickr.com/photos/britishlibrary/ta...   \n",
       "2  http://www.flickr.com/photos/britishlibrary/ta...   \n",
       "\n",
       "                          Shelfmarks  \n",
       "0  British Library HMNTS 12641.b.30.  \n",
       "1  British Library HMNTS 12626.cc.2.  \n",
       "2  British Library HMNTS 12625.dd.1.  "
      ]
     },
     "execution_count": 3,
     "metadata": {},
     "output_type": "execute_result"
    }
   ],
   "source": [
    "df.head(3)"
   ]
  },
  {
   "cell_type": "code",
   "execution_count": 4,
   "id": "bf806a97",
   "metadata": {},
   "outputs": [
    {
     "data": {
      "text/html": [
       "<div>\n",
       "<style scoped>\n",
       "    .dataframe tbody tr th:only-of-type {\n",
       "        vertical-align: middle;\n",
       "    }\n",
       "\n",
       "    .dataframe tbody tr th {\n",
       "        vertical-align: top;\n",
       "    }\n",
       "\n",
       "    .dataframe thead th {\n",
       "        text-align: right;\n",
       "    }\n",
       "</style>\n",
       "<table border=\"1\" class=\"dataframe\">\n",
       "  <thead>\n",
       "    <tr style=\"text-align: right;\">\n",
       "      <th></th>\n",
       "      <th>Identifier</th>\n",
       "      <th>Edition Statement</th>\n",
       "      <th>Place of Publication</th>\n",
       "      <th>Date of Publication</th>\n",
       "      <th>Publisher</th>\n",
       "      <th>Title</th>\n",
       "      <th>Author</th>\n",
       "      <th>Contributors</th>\n",
       "      <th>Corporate Author</th>\n",
       "      <th>Corporate Contributors</th>\n",
       "      <th>Former owner</th>\n",
       "      <th>Engraver</th>\n",
       "      <th>Issuance type</th>\n",
       "      <th>Flickr URL</th>\n",
       "      <th>Shelfmarks</th>\n",
       "    </tr>\n",
       "  </thead>\n",
       "  <tbody>\n",
       "    <tr>\n",
       "      <th>8284</th>\n",
       "      <td>4159563</td>\n",
       "      <td>NaN</td>\n",
       "      <td>London</td>\n",
       "      <td>[1806]-22</td>\n",
       "      <td>T. Cadell and W. Davies</td>\n",
       "      <td>Magna Britannia; being a concise topographical...</td>\n",
       "      <td>LYSONS, Daniel - M.A., F.R.S., and LYSONS (Sam...</td>\n",
       "      <td>GREGSON, Matthew.|LYSONS, Samuel - F.R.S</td>\n",
       "      <td>NaN</td>\n",
       "      <td>NaN</td>\n",
       "      <td>NaN</td>\n",
       "      <td>NaN</td>\n",
       "      <td>monographic</td>\n",
       "      <td>http://www.flickr.com/photos/britishlibrary/ta...</td>\n",
       "      <td>British Library HMNTS|British Library HMNTS 19...</td>\n",
       "    </tr>\n",
       "    <tr>\n",
       "      <th>8285</th>\n",
       "      <td>4159587</td>\n",
       "      <td>NaN</td>\n",
       "      <td>Newcastle upon Tyne</td>\n",
       "      <td>1834</td>\n",
       "      <td>Mackenzie &amp; Dent</td>\n",
       "      <td>An historical, topographical and descriptive v...</td>\n",
       "      <td>Mackenzie, E. (Eneas)</td>\n",
       "      <td>ROSS, M. - of Durham</td>\n",
       "      <td>NaN</td>\n",
       "      <td>NaN</td>\n",
       "      <td>NaN</td>\n",
       "      <td>NaN</td>\n",
       "      <td>monographic</td>\n",
       "      <td>http://www.flickr.com/photos/britishlibrary/ta...</td>\n",
       "      <td>British Library HMNTS|British Library HMNTS 10...</td>\n",
       "    </tr>\n",
       "    <tr>\n",
       "      <th>8286</th>\n",
       "      <td>4160339</td>\n",
       "      <td>NaN</td>\n",
       "      <td>London</td>\n",
       "      <td>1834-43</td>\n",
       "      <td>NaN</td>\n",
       "      <td>Collectanea Topographica et Genealogica. [Firs...</td>\n",
       "      <td>NaN</td>\n",
       "      <td>BANDINEL, Bulkeley.|Nichols, John Gough</td>\n",
       "      <td>NaN</td>\n",
       "      <td>NaN</td>\n",
       "      <td>NaN</td>\n",
       "      <td>NaN</td>\n",
       "      <td>continuing</td>\n",
       "      <td>http://www.flickr.com/photos/britishlibrary/ta...</td>\n",
       "      <td>British Library HMNTS|British Library HMNTS 79...</td>\n",
       "    </tr>\n",
       "  </tbody>\n",
       "</table>\n",
       "</div>"
      ],
      "text/plain": [
       "      Identifier Edition Statement Place of Publication Date of Publication  \\\n",
       "8284     4159563               NaN               London           [1806]-22   \n",
       "8285     4159587               NaN  Newcastle upon Tyne                1834   \n",
       "8286     4160339               NaN               London             1834-43   \n",
       "\n",
       "                    Publisher  \\\n",
       "8284  T. Cadell and W. Davies   \n",
       "8285         Mackenzie & Dent   \n",
       "8286                      NaN   \n",
       "\n",
       "                                                  Title  \\\n",
       "8284  Magna Britannia; being a concise topographical...   \n",
       "8285  An historical, topographical and descriptive v...   \n",
       "8286  Collectanea Topographica et Genealogica. [Firs...   \n",
       "\n",
       "                                                 Author  \\\n",
       "8284  LYSONS, Daniel - M.A., F.R.S., and LYSONS (Sam...   \n",
       "8285                              Mackenzie, E. (Eneas)   \n",
       "8286                                                NaN   \n",
       "\n",
       "                                  Contributors  Corporate Author  \\\n",
       "8284  GREGSON, Matthew.|LYSONS, Samuel - F.R.S               NaN   \n",
       "8285                      ROSS, M. - of Durham               NaN   \n",
       "8286   BANDINEL, Bulkeley.|Nichols, John Gough               NaN   \n",
       "\n",
       "      Corporate Contributors Former owner  Engraver Issuance type  \\\n",
       "8284                     NaN          NaN       NaN   monographic   \n",
       "8285                     NaN          NaN       NaN   monographic   \n",
       "8286                     NaN          NaN       NaN    continuing   \n",
       "\n",
       "                                             Flickr URL  \\\n",
       "8284  http://www.flickr.com/photos/britishlibrary/ta...   \n",
       "8285  http://www.flickr.com/photos/britishlibrary/ta...   \n",
       "8286  http://www.flickr.com/photos/britishlibrary/ta...   \n",
       "\n",
       "                                             Shelfmarks  \n",
       "8284  British Library HMNTS|British Library HMNTS 19...  \n",
       "8285  British Library HMNTS|British Library HMNTS 10...  \n",
       "8286  British Library HMNTS|British Library HMNTS 79...  "
      ]
     },
     "execution_count": 4,
     "metadata": {},
     "output_type": "execute_result"
    }
   ],
   "source": [
    "df.tail(3)"
   ]
  },
  {
   "cell_type": "code",
   "execution_count": 5,
   "id": "64ffe3eb",
   "metadata": {},
   "outputs": [
    {
     "data": {
      "text/plain": [
       "(8287, 15)"
      ]
     },
     "execution_count": 5,
     "metadata": {},
     "output_type": "execute_result"
    }
   ],
   "source": [
    "# Shape of the data\n",
    "df.shape"
   ]
  },
  {
   "cell_type": "code",
   "execution_count": 6,
   "id": "e19e92c6",
   "metadata": {},
   "outputs": [
    {
     "data": {
      "text/plain": [
       "Identifier                  int64\n",
       "Edition Statement          object\n",
       "Place of Publication       object\n",
       "Date of Publication        object\n",
       "Publisher                  object\n",
       "Title                      object\n",
       "Author                     object\n",
       "Contributors               object\n",
       "Corporate Author          float64\n",
       "Corporate Contributors    float64\n",
       "Former owner               object\n",
       "Engraver                  float64\n",
       "Issuance type              object\n",
       "Flickr URL                 object\n",
       "Shelfmarks                 object\n",
       "dtype: object"
      ]
     },
     "execution_count": 6,
     "metadata": {},
     "output_type": "execute_result"
    }
   ],
   "source": [
    "# Dtype of the data\n",
    "df.dtypes"
   ]
  },
  {
   "cell_type": "code",
   "execution_count": 7,
   "id": "e471b162",
   "metadata": {},
   "outputs": [
    {
     "data": {
      "text/plain": [
       "Index(['Identifier', 'Edition Statement', 'Place of Publication',\n",
       "       'Date of Publication', 'Publisher', 'Title', 'Author', 'Contributors',\n",
       "       'Corporate Author', 'Corporate Contributors', 'Former owner',\n",
       "       'Engraver', 'Issuance type', 'Flickr URL', 'Shelfmarks'],\n",
       "      dtype='object')"
      ]
     },
     "execution_count": 7,
     "metadata": {},
     "output_type": "execute_result"
    }
   ],
   "source": [
    "# Columns in the dataset\n",
    "df.columns"
   ]
  },
  {
   "cell_type": "code",
   "execution_count": 8,
   "id": "df82b3de",
   "metadata": {},
   "outputs": [
    {
     "data": {
      "text/plain": [
       "Identifier                   0\n",
       "Edition Statement         7514\n",
       "Place of Publication         0\n",
       "Date of Publication        181\n",
       "Publisher                 4195\n",
       "Title                        0\n",
       "Author                    1778\n",
       "Contributors                 0\n",
       "Corporate Author          8287\n",
       "Corporate Contributors    8287\n",
       "Former owner              8286\n",
       "Engraver                  8287\n",
       "Issuance type                0\n",
       "Flickr URL                   0\n",
       "Shelfmarks                   0\n",
       "dtype: int64"
      ]
     },
     "execution_count": 8,
     "metadata": {},
     "output_type": "execute_result"
    }
   ],
   "source": [
    "# null value count in the dataset\n",
    "df.isna().sum()"
   ]
  },
  {
   "cell_type": "code",
   "execution_count": 9,
   "id": "48372a7d",
   "metadata": {},
   "outputs": [
    {
     "name": "stdout",
     "output_type": "stream",
     "text": [
      "<class 'pandas.core.frame.DataFrame'>\n",
      "RangeIndex: 8287 entries, 0 to 8286\n",
      "Data columns (total 15 columns):\n",
      " #   Column                  Non-Null Count  Dtype  \n",
      "---  ------                  --------------  -----  \n",
      " 0   Identifier              8287 non-null   int64  \n",
      " 1   Edition Statement       773 non-null    object \n",
      " 2   Place of Publication    8287 non-null   object \n",
      " 3   Date of Publication     8106 non-null   object \n",
      " 4   Publisher               4092 non-null   object \n",
      " 5   Title                   8287 non-null   object \n",
      " 6   Author                  6509 non-null   object \n",
      " 7   Contributors            8287 non-null   object \n",
      " 8   Corporate Author        0 non-null      float64\n",
      " 9   Corporate Contributors  0 non-null      float64\n",
      " 10  Former owner            1 non-null      object \n",
      " 11  Engraver                0 non-null      float64\n",
      " 12  Issuance type           8287 non-null   object \n",
      " 13  Flickr URL              8287 non-null   object \n",
      " 14  Shelfmarks              8287 non-null   object \n",
      "dtypes: float64(3), int64(1), object(11)\n",
      "memory usage: 971.3+ KB\n"
     ]
    }
   ],
   "source": [
    "# info of the dataset\n",
    "df.info()"
   ]
  },
  {
   "cell_type": "code",
   "execution_count": 10,
   "id": "487904d4",
   "metadata": {},
   "outputs": [],
   "source": [
    "# describing the data\n",
    "#df.describe()\n",
    "# all are kind of objecttype"
   ]
  },
  {
   "cell_type": "markdown",
   "id": "8cab6558",
   "metadata": {},
   "source": [
    "# Data Cleaning"
   ]
  },
  {
   "cell_type": "code",
   "execution_count": 11,
   "id": "27ebab3c",
   "metadata": {},
   "outputs": [],
   "source": [
    "# Replacing space in the column names\n",
    "\n",
    "cols=df.columns\n",
    "\n",
    "for i in cols:\n",
    "    j=i.replace(\" \",\"_\")\n",
    "    df.rename(columns={i:j},inplace=True)\n",
    "     "
   ]
  },
  {
   "cell_type": "code",
   "execution_count": 12,
   "id": "a51badea",
   "metadata": {},
   "outputs": [
    {
     "data": {
      "text/plain": [
       "Index(['Identifier', 'Edition_Statement', 'Place_of_Publication',\n",
       "       'Date_of_Publication', 'Publisher', 'Title', 'Author', 'Contributors',\n",
       "       'Corporate_Author', 'Corporate_Contributors', 'Former_owner',\n",
       "       'Engraver', 'Issuance_type', 'Flickr_URL', 'Shelfmarks'],\n",
       "      dtype='object')"
      ]
     },
     "execution_count": 12,
     "metadata": {},
     "output_type": "execute_result"
    }
   ],
   "source": [
    "df.columns"
   ]
  },
  {
   "cell_type": "code",
   "execution_count": 13,
   "id": "6797ee65",
   "metadata": {},
   "outputs": [],
   "source": [
    "# Null Value Handling\n",
    "# since columns Corporate Author,Corporate Contributors,Former owner & Engraver contain no values, We can drop out these columns\n",
    "\n",
    "df.drop(columns=[\"Corporate_Author\",\"Corporate_Contributors\",\"Former_owner\",\"Engraver\"],axis=1,inplace=True)"
   ]
  },
  {
   "cell_type": "code",
   "execution_count": 14,
   "id": "b0999136",
   "metadata": {},
   "outputs": [
    {
     "data": {
      "text/html": [
       "<div>\n",
       "<style scoped>\n",
       "    .dataframe tbody tr th:only-of-type {\n",
       "        vertical-align: middle;\n",
       "    }\n",
       "\n",
       "    .dataframe tbody tr th {\n",
       "        vertical-align: top;\n",
       "    }\n",
       "\n",
       "    .dataframe thead th {\n",
       "        text-align: right;\n",
       "    }\n",
       "</style>\n",
       "<table border=\"1\" class=\"dataframe\">\n",
       "  <thead>\n",
       "    <tr style=\"text-align: right;\">\n",
       "      <th></th>\n",
       "      <th>Identifier</th>\n",
       "      <th>Edition_Statement</th>\n",
       "      <th>Place_of_Publication</th>\n",
       "      <th>Date_of_Publication</th>\n",
       "      <th>Publisher</th>\n",
       "      <th>Title</th>\n",
       "      <th>Author</th>\n",
       "      <th>Contributors</th>\n",
       "      <th>Issuance_type</th>\n",
       "      <th>Flickr_URL</th>\n",
       "      <th>Shelfmarks</th>\n",
       "    </tr>\n",
       "  </thead>\n",
       "  <tbody>\n",
       "    <tr>\n",
       "      <th>0</th>\n",
       "      <td>206</td>\n",
       "      <td>NaN</td>\n",
       "      <td>London</td>\n",
       "      <td>1879 [1878]</td>\n",
       "      <td>S. Tinsley &amp; Co.</td>\n",
       "      <td>Walter Forbes. [A novel.] By A. A</td>\n",
       "      <td>A. A.</td>\n",
       "      <td>FORBES, Walter.</td>\n",
       "      <td>monographic</td>\n",
       "      <td>http://www.flickr.com/photos/britishlibrary/ta...</td>\n",
       "      <td>British Library HMNTS 12641.b.30.</td>\n",
       "    </tr>\n",
       "    <tr>\n",
       "      <th>1</th>\n",
       "      <td>216</td>\n",
       "      <td>NaN</td>\n",
       "      <td>London; Virtue &amp; Yorston</td>\n",
       "      <td>1868</td>\n",
       "      <td>Virtue &amp; Co.</td>\n",
       "      <td>All for Greed. [A novel. The dedication signed...</td>\n",
       "      <td>A., A. A.</td>\n",
       "      <td>BLAZE DE BURY, Marie Pauline Rose - Baroness</td>\n",
       "      <td>monographic</td>\n",
       "      <td>http://www.flickr.com/photos/britishlibrary/ta...</td>\n",
       "      <td>British Library HMNTS 12626.cc.2.</td>\n",
       "    </tr>\n",
       "    <tr>\n",
       "      <th>2</th>\n",
       "      <td>218</td>\n",
       "      <td>NaN</td>\n",
       "      <td>London</td>\n",
       "      <td>1869</td>\n",
       "      <td>Bradbury, Evans &amp; Co.</td>\n",
       "      <td>Love the Avenger. By the author of “All for Gr...</td>\n",
       "      <td>A., A. A.</td>\n",
       "      <td>BLAZE DE BURY, Marie Pauline Rose - Baroness</td>\n",
       "      <td>monographic</td>\n",
       "      <td>http://www.flickr.com/photos/britishlibrary/ta...</td>\n",
       "      <td>British Library HMNTS 12625.dd.1.</td>\n",
       "    </tr>\n",
       "  </tbody>\n",
       "</table>\n",
       "</div>"
      ],
      "text/plain": [
       "   Identifier Edition_Statement      Place_of_Publication Date_of_Publication  \\\n",
       "0         206               NaN                    London         1879 [1878]   \n",
       "1         216               NaN  London; Virtue & Yorston                1868   \n",
       "2         218               NaN                    London                1869   \n",
       "\n",
       "               Publisher                                              Title  \\\n",
       "0       S. Tinsley & Co.                  Walter Forbes. [A novel.] By A. A   \n",
       "1           Virtue & Co.  All for Greed. [A novel. The dedication signed...   \n",
       "2  Bradbury, Evans & Co.  Love the Avenger. By the author of “All for Gr...   \n",
       "\n",
       "      Author                                  Contributors Issuance_type  \\\n",
       "0      A. A.                               FORBES, Walter.   monographic   \n",
       "1  A., A. A.  BLAZE DE BURY, Marie Pauline Rose - Baroness   monographic   \n",
       "2  A., A. A.  BLAZE DE BURY, Marie Pauline Rose - Baroness   monographic   \n",
       "\n",
       "                                          Flickr_URL  \\\n",
       "0  http://www.flickr.com/photos/britishlibrary/ta...   \n",
       "1  http://www.flickr.com/photos/britishlibrary/ta...   \n",
       "2  http://www.flickr.com/photos/britishlibrary/ta...   \n",
       "\n",
       "                          Shelfmarks  \n",
       "0  British Library HMNTS 12641.b.30.  \n",
       "1  British Library HMNTS 12626.cc.2.  \n",
       "2  British Library HMNTS 12625.dd.1.  "
      ]
     },
     "execution_count": 14,
     "metadata": {},
     "output_type": "execute_result"
    }
   ],
   "source": [
    "df.head(3)"
   ]
  },
  {
   "cell_type": "code",
   "execution_count": 15,
   "id": "27bd70d3",
   "metadata": {},
   "outputs": [],
   "source": [
    "# Checking the identifier is unique no or not\n",
    "df[\"Identifier\"].is_unique\n",
    "df1=df.copy()"
   ]
  },
  {
   "cell_type": "code",
   "execution_count": 16,
   "id": "652572ac",
   "metadata": {},
   "outputs": [],
   "source": [
    "# Identifier is a unique no, So We can set the index to identifier value\n",
    "df.set_index(\"Identifier\",inplace=True)"
   ]
  },
  {
   "cell_type": "code",
   "execution_count": 17,
   "id": "229c97ef",
   "metadata": {},
   "outputs": [
    {
     "data": {
      "text/html": [
       "<div>\n",
       "<style scoped>\n",
       "    .dataframe tbody tr th:only-of-type {\n",
       "        vertical-align: middle;\n",
       "    }\n",
       "\n",
       "    .dataframe tbody tr th {\n",
       "        vertical-align: top;\n",
       "    }\n",
       "\n",
       "    .dataframe thead th {\n",
       "        text-align: right;\n",
       "    }\n",
       "</style>\n",
       "<table border=\"1\" class=\"dataframe\">\n",
       "  <thead>\n",
       "    <tr style=\"text-align: right;\">\n",
       "      <th></th>\n",
       "      <th>Edition_Statement</th>\n",
       "      <th>Place_of_Publication</th>\n",
       "      <th>Date_of_Publication</th>\n",
       "      <th>Publisher</th>\n",
       "      <th>Title</th>\n",
       "      <th>Author</th>\n",
       "      <th>Contributors</th>\n",
       "      <th>Issuance_type</th>\n",
       "      <th>Flickr_URL</th>\n",
       "      <th>Shelfmarks</th>\n",
       "    </tr>\n",
       "    <tr>\n",
       "      <th>Identifier</th>\n",
       "      <th></th>\n",
       "      <th></th>\n",
       "      <th></th>\n",
       "      <th></th>\n",
       "      <th></th>\n",
       "      <th></th>\n",
       "      <th></th>\n",
       "      <th></th>\n",
       "      <th></th>\n",
       "      <th></th>\n",
       "    </tr>\n",
       "  </thead>\n",
       "  <tbody>\n",
       "    <tr>\n",
       "      <th>206</th>\n",
       "      <td>NaN</td>\n",
       "      <td>London</td>\n",
       "      <td>1879 [1878]</td>\n",
       "      <td>S. Tinsley &amp; Co.</td>\n",
       "      <td>Walter Forbes. [A novel.] By A. A</td>\n",
       "      <td>A. A.</td>\n",
       "      <td>FORBES, Walter.</td>\n",
       "      <td>monographic</td>\n",
       "      <td>http://www.flickr.com/photos/britishlibrary/ta...</td>\n",
       "      <td>British Library HMNTS 12641.b.30.</td>\n",
       "    </tr>\n",
       "    <tr>\n",
       "      <th>216</th>\n",
       "      <td>NaN</td>\n",
       "      <td>London; Virtue &amp; Yorston</td>\n",
       "      <td>1868</td>\n",
       "      <td>Virtue &amp; Co.</td>\n",
       "      <td>All for Greed. [A novel. The dedication signed...</td>\n",
       "      <td>A., A. A.</td>\n",
       "      <td>BLAZE DE BURY, Marie Pauline Rose - Baroness</td>\n",
       "      <td>monographic</td>\n",
       "      <td>http://www.flickr.com/photos/britishlibrary/ta...</td>\n",
       "      <td>British Library HMNTS 12626.cc.2.</td>\n",
       "    </tr>\n",
       "    <tr>\n",
       "      <th>218</th>\n",
       "      <td>NaN</td>\n",
       "      <td>London</td>\n",
       "      <td>1869</td>\n",
       "      <td>Bradbury, Evans &amp; Co.</td>\n",
       "      <td>Love the Avenger. By the author of “All for Gr...</td>\n",
       "      <td>A., A. A.</td>\n",
       "      <td>BLAZE DE BURY, Marie Pauline Rose - Baroness</td>\n",
       "      <td>monographic</td>\n",
       "      <td>http://www.flickr.com/photos/britishlibrary/ta...</td>\n",
       "      <td>British Library HMNTS 12625.dd.1.</td>\n",
       "    </tr>\n",
       "  </tbody>\n",
       "</table>\n",
       "</div>"
      ],
      "text/plain": [
       "           Edition_Statement      Place_of_Publication Date_of_Publication  \\\n",
       "Identifier                                                                   \n",
       "206                      NaN                    London         1879 [1878]   \n",
       "216                      NaN  London; Virtue & Yorston                1868   \n",
       "218                      NaN                    London                1869   \n",
       "\n",
       "                        Publisher  \\\n",
       "Identifier                          \n",
       "206              S. Tinsley & Co.   \n",
       "216                  Virtue & Co.   \n",
       "218         Bradbury, Evans & Co.   \n",
       "\n",
       "                                                        Title     Author  \\\n",
       "Identifier                                                                 \n",
       "206                         Walter Forbes. [A novel.] By A. A      A. A.   \n",
       "216         All for Greed. [A novel. The dedication signed...  A., A. A.   \n",
       "218         Love the Avenger. By the author of “All for Gr...  A., A. A.   \n",
       "\n",
       "                                            Contributors Issuance_type  \\\n",
       "Identifier                                                               \n",
       "206                                      FORBES, Walter.   monographic   \n",
       "216         BLAZE DE BURY, Marie Pauline Rose - Baroness   monographic   \n",
       "218         BLAZE DE BURY, Marie Pauline Rose - Baroness   monographic   \n",
       "\n",
       "                                                   Flickr_URL  \\\n",
       "Identifier                                                      \n",
       "206         http://www.flickr.com/photos/britishlibrary/ta...   \n",
       "216         http://www.flickr.com/photos/britishlibrary/ta...   \n",
       "218         http://www.flickr.com/photos/britishlibrary/ta...   \n",
       "\n",
       "                                   Shelfmarks  \n",
       "Identifier                                     \n",
       "206         British Library HMNTS 12641.b.30.  \n",
       "216         British Library HMNTS 12626.cc.2.  \n",
       "218         British Library HMNTS 12625.dd.1.  "
      ]
     },
     "execution_count": 17,
     "metadata": {},
     "output_type": "execute_result"
    }
   ],
   "source": [
    "df.head(3)"
   ]
  },
  {
   "cell_type": "code",
   "execution_count": 18,
   "id": "2b695b02",
   "metadata": {},
   "outputs": [],
   "source": [
    "# We can drop irrelevant columns from dataset\n",
    "\n",
    "cols=[\"Edition_Statement\",\"Contributors\",\"Issuance_type\",\"Shelfmarks\"]\n",
    "df.drop(columns=cols,axis=1,inplace=True)\n"
   ]
  },
  {
   "cell_type": "code",
   "execution_count": 19,
   "id": "ac663e85",
   "metadata": {},
   "outputs": [
    {
     "data": {
      "text/html": [
       "<div>\n",
       "<style scoped>\n",
       "    .dataframe tbody tr th:only-of-type {\n",
       "        vertical-align: middle;\n",
       "    }\n",
       "\n",
       "    .dataframe tbody tr th {\n",
       "        vertical-align: top;\n",
       "    }\n",
       "\n",
       "    .dataframe thead th {\n",
       "        text-align: right;\n",
       "    }\n",
       "</style>\n",
       "<table border=\"1\" class=\"dataframe\">\n",
       "  <thead>\n",
       "    <tr style=\"text-align: right;\">\n",
       "      <th></th>\n",
       "      <th>Place_of_Publication</th>\n",
       "      <th>Date_of_Publication</th>\n",
       "      <th>Publisher</th>\n",
       "      <th>Title</th>\n",
       "      <th>Author</th>\n",
       "      <th>Flickr_URL</th>\n",
       "    </tr>\n",
       "    <tr>\n",
       "      <th>Identifier</th>\n",
       "      <th></th>\n",
       "      <th></th>\n",
       "      <th></th>\n",
       "      <th></th>\n",
       "      <th></th>\n",
       "      <th></th>\n",
       "    </tr>\n",
       "  </thead>\n",
       "  <tbody>\n",
       "    <tr>\n",
       "      <th>206</th>\n",
       "      <td>London</td>\n",
       "      <td>1879 [1878]</td>\n",
       "      <td>S. Tinsley &amp; Co.</td>\n",
       "      <td>Walter Forbes. [A novel.] By A. A</td>\n",
       "      <td>A. A.</td>\n",
       "      <td>http://www.flickr.com/photos/britishlibrary/ta...</td>\n",
       "    </tr>\n",
       "    <tr>\n",
       "      <th>216</th>\n",
       "      <td>London; Virtue &amp; Yorston</td>\n",
       "      <td>1868</td>\n",
       "      <td>Virtue &amp; Co.</td>\n",
       "      <td>All for Greed. [A novel. The dedication signed...</td>\n",
       "      <td>A., A. A.</td>\n",
       "      <td>http://www.flickr.com/photos/britishlibrary/ta...</td>\n",
       "    </tr>\n",
       "    <tr>\n",
       "      <th>218</th>\n",
       "      <td>London</td>\n",
       "      <td>1869</td>\n",
       "      <td>Bradbury, Evans &amp; Co.</td>\n",
       "      <td>Love the Avenger. By the author of “All for Gr...</td>\n",
       "      <td>A., A. A.</td>\n",
       "      <td>http://www.flickr.com/photos/britishlibrary/ta...</td>\n",
       "    </tr>\n",
       "  </tbody>\n",
       "</table>\n",
       "</div>"
      ],
      "text/plain": [
       "                Place_of_Publication Date_of_Publication  \\\n",
       "Identifier                                                 \n",
       "206                           London         1879 [1878]   \n",
       "216         London; Virtue & Yorston                1868   \n",
       "218                           London                1869   \n",
       "\n",
       "                        Publisher  \\\n",
       "Identifier                          \n",
       "206              S. Tinsley & Co.   \n",
       "216                  Virtue & Co.   \n",
       "218         Bradbury, Evans & Co.   \n",
       "\n",
       "                                                        Title     Author  \\\n",
       "Identifier                                                                 \n",
       "206                         Walter Forbes. [A novel.] By A. A      A. A.   \n",
       "216         All for Greed. [A novel. The dedication signed...  A., A. A.   \n",
       "218         Love the Avenger. By the author of “All for Gr...  A., A. A.   \n",
       "\n",
       "                                                   Flickr_URL  \n",
       "Identifier                                                     \n",
       "206         http://www.flickr.com/photos/britishlibrary/ta...  \n",
       "216         http://www.flickr.com/photos/britishlibrary/ta...  \n",
       "218         http://www.flickr.com/photos/britishlibrary/ta...  "
      ]
     },
     "execution_count": 19,
     "metadata": {},
     "output_type": "execute_result"
    }
   ],
   "source": [
    "df.head(3)"
   ]
  },
  {
   "cell_type": "code",
   "execution_count": 20,
   "id": "336bb955",
   "metadata": {},
   "outputs": [
    {
     "data": {
      "text/plain": [
       "Place_of_Publication    1441\n",
       "Date_of_Publication     1148\n",
       "Publisher               1989\n",
       "Title                   8210\n",
       "Author                  5005\n",
       "Flickr_URL              8287\n",
       "dtype: int64"
      ]
     },
     "execution_count": 20,
     "metadata": {},
     "output_type": "execute_result"
    }
   ],
   "source": [
    "# Checking the unique values of each column\n",
    "df.nunique()"
   ]
  },
  {
   "cell_type": "code",
   "execution_count": 21,
   "id": "1d6d1cdf",
   "metadata": {},
   "outputs": [
    {
     "data": {
      "text/plain": [
       "Identifier\n",
       "206                          London\n",
       "216        London; Virtue & Yorston\n",
       "218                          London\n",
       "472                          London\n",
       "480                          London\n",
       "                     ...           \n",
       "4158088                      London\n",
       "4158128                       Derby\n",
       "4159563                      London\n",
       "4159587         Newcastle upon Tyne\n",
       "4160339                      London\n",
       "Name: Place_of_Publication, Length: 8287, dtype: object"
      ]
     },
     "execution_count": 21,
     "metadata": {},
     "output_type": "execute_result"
    }
   ],
   "source": [
    "# Dealing with column Place_of_Publication\n",
    "df[\"Place_of_Publication\"]"
   ]
  },
  {
   "cell_type": "code",
   "execution_count": 22,
   "id": "73b79f47",
   "metadata": {},
   "outputs": [],
   "source": [
    "#Replacing The values contain LOndon, Oxford using np.where\n",
    "\n",
    "plc=df[\"Place_of_Publication\"]\n",
    "london=df[\"Place_of_Publication\"].str.contains(\"London\")\n",
    "oxford=df[\"Place_of_Publication\"].str.contains(\"Oxford\")\n",
    "\n",
    "df[\"Place_of_Publication\"]=np.where(london,'London',np.where(oxford, 'Oxford',plc.str.replace('-', ' ')))\n"
   ]
  },
  {
   "cell_type": "code",
   "execution_count": 23,
   "id": "e6c7ed51",
   "metadata": {},
   "outputs": [
    {
     "data": {
      "text/plain": [
       "London                   4219\n",
       "Paris                     479\n",
       "Edinburgh                 208\n",
       "New York                  193\n",
       "Leipzig                   119\n",
       "                         ... \n",
       "Cadell & Davies, etc        1\n",
       "Suttaby, Evance, & Co       1\n",
       "Charles Griffin & Co        1\n",
       "Ermanno Loescher            1\n",
       "Moskwa                      1\n",
       "Name: Place_of_Publication, Length: 1186, dtype: int64"
      ]
     },
     "execution_count": 23,
     "metadata": {},
     "output_type": "execute_result"
    }
   ],
   "source": [
    "df[\"Place_of_Publication\"].value_counts()"
   ]
  },
  {
   "cell_type": "code",
   "execution_count": 25,
   "id": "fe07287b",
   "metadata": {},
   "outputs": [
    {
     "data": {
      "text/html": [
       "<div>\n",
       "<style scoped>\n",
       "    .dataframe tbody tr th:only-of-type {\n",
       "        vertical-align: middle;\n",
       "    }\n",
       "\n",
       "    .dataframe tbody tr th {\n",
       "        vertical-align: top;\n",
       "    }\n",
       "\n",
       "    .dataframe thead th {\n",
       "        text-align: right;\n",
       "    }\n",
       "</style>\n",
       "<table border=\"1\" class=\"dataframe\">\n",
       "  <thead>\n",
       "    <tr style=\"text-align: right;\">\n",
       "      <th></th>\n",
       "      <th>Place_of_Publication</th>\n",
       "      <th>Date_of_Publication</th>\n",
       "      <th>Publisher</th>\n",
       "      <th>Title</th>\n",
       "      <th>Author</th>\n",
       "      <th>Flickr_URL</th>\n",
       "    </tr>\n",
       "    <tr>\n",
       "      <th>Identifier</th>\n",
       "      <th></th>\n",
       "      <th></th>\n",
       "      <th></th>\n",
       "      <th></th>\n",
       "      <th></th>\n",
       "      <th></th>\n",
       "    </tr>\n",
       "  </thead>\n",
       "  <tbody>\n",
       "    <tr>\n",
       "      <th>206</th>\n",
       "      <td>London</td>\n",
       "      <td>1879 [1878]</td>\n",
       "      <td>S. Tinsley &amp; Co.</td>\n",
       "      <td>Walter Forbes. [A novel.] By A. A</td>\n",
       "      <td>A. A.</td>\n",
       "      <td>http://www.flickr.com/photos/britishlibrary/ta...</td>\n",
       "    </tr>\n",
       "    <tr>\n",
       "      <th>216</th>\n",
       "      <td>London</td>\n",
       "      <td>1868</td>\n",
       "      <td>Virtue &amp; Co.</td>\n",
       "      <td>All for Greed. [A novel. The dedication signed...</td>\n",
       "      <td>A., A. A.</td>\n",
       "      <td>http://www.flickr.com/photos/britishlibrary/ta...</td>\n",
       "    </tr>\n",
       "    <tr>\n",
       "      <th>218</th>\n",
       "      <td>London</td>\n",
       "      <td>1869</td>\n",
       "      <td>Bradbury, Evans &amp; Co.</td>\n",
       "      <td>Love the Avenger. By the author of “All for Gr...</td>\n",
       "      <td>A., A. A.</td>\n",
       "      <td>http://www.flickr.com/photos/britishlibrary/ta...</td>\n",
       "    </tr>\n",
       "  </tbody>\n",
       "</table>\n",
       "</div>"
      ],
      "text/plain": [
       "           Place_of_Publication Date_of_Publication              Publisher  \\\n",
       "Identifier                                                                   \n",
       "206                      London         1879 [1878]       S. Tinsley & Co.   \n",
       "216                      London                1868           Virtue & Co.   \n",
       "218                      London                1869  Bradbury, Evans & Co.   \n",
       "\n",
       "                                                        Title     Author  \\\n",
       "Identifier                                                                 \n",
       "206                         Walter Forbes. [A novel.] By A. A      A. A.   \n",
       "216         All for Greed. [A novel. The dedication signed...  A., A. A.   \n",
       "218         Love the Avenger. By the author of “All for Gr...  A., A. A.   \n",
       "\n",
       "                                                   Flickr_URL  \n",
       "Identifier                                                     \n",
       "206         http://www.flickr.com/photos/britishlibrary/ta...  \n",
       "216         http://www.flickr.com/photos/britishlibrary/ta...  \n",
       "218         http://www.flickr.com/photos/britishlibrary/ta...  "
      ]
     },
     "execution_count": 25,
     "metadata": {},
     "output_type": "execute_result"
    }
   ],
   "source": [
    "df.head(3)"
   ]
  },
  {
   "cell_type": "code",
   "execution_count": 26,
   "id": "6613ca04",
   "metadata": {},
   "outputs": [
    {
     "data": {
      "text/plain": [
       "1897          157\n",
       "1896          150\n",
       "1893          130\n",
       "1892          127\n",
       "1898          125\n",
       "             ... \n",
       "[1895-97.]      1\n",
       "1838-39         1\n",
       "1854-55         1\n",
       "[1882, 85]      1\n",
       "1834-43         1\n",
       "Name: Date_of_Publication, Length: 1148, dtype: int64"
      ]
     },
     "execution_count": 26,
     "metadata": {},
     "output_type": "execute_result"
    }
   ],
   "source": [
    "# Dealing with column Date_of_Publication\n",
    "df[\"Date_of_Publication\"].value_counts()"
   ]
  },
  {
   "cell_type": "markdown",
   "id": "df87a29a",
   "metadata": {},
   "source": [
    "<b>regular expression</b></br>\n",
    "\n",
    "df3=df[\"Date_of_Publication\"].str.extract(r'^(\\d{4})', expand=False)</br>\n",
    "\n",
    "regex = r'^(\\d{4})'</br>\n",
    "\n",
    "The regular expression above is meant to find any four digits at the beginning of a string, which suffices for our case. The\n",
    "above is a raw string (meaning that a backslash is no longer an escape character), which is standard practice with\n",
    "regular expressions.\n",
    "The \\d represents any digit, and {4} repeats this rule four times. The ^ character matches the start of a string, and the\n",
    "parentheses denote a capturing group, which signals to Pandas that we want to extract that part of the regex. (We want\n",
    "^ to avoid cases where [ starts off the string.)"
   ]
  },
  {
   "cell_type": "code",
   "execution_count": 27,
   "id": "2c0222f0",
   "metadata": {},
   "outputs": [],
   "source": [
    "# WE extract first group of no's from the data set\n",
    "\n",
    "#Remove the extra dates in square brackets, wherever present: 1879 [1878]\n",
    "#Convert date ranges to their “start date”, wherever present: 1860-63; 1839, 38-54\n",
    "#Completely remove the dates we are not certain about and replace them with NumPy’s NaN: [1897?]\n",
    "#Convert the string nan to NumPy’s NaN value"
   ]
  },
  {
   "cell_type": "code",
   "execution_count": 28,
   "id": "8cf13f2d",
   "metadata": {},
   "outputs": [],
   "source": [
    "extr = df['Date_of_Publication'].str.extract(r'^(\\d{4})', expand=False)"
   ]
  },
  {
   "cell_type": "code",
   "execution_count": 29,
   "id": "9c22b9cb",
   "metadata": {},
   "outputs": [],
   "source": [
    "# Converting to numeric value to avoid Nan \n",
    "df[\"Date_of_Publication\"]=pd.to_numeric(extr)"
   ]
  },
  {
   "cell_type": "code",
   "execution_count": 30,
   "id": "c7c1fc69",
   "metadata": {},
   "outputs": [
    {
     "data": {
      "text/plain": [
       "0.11717147339205986"
      ]
     },
     "execution_count": 30,
     "metadata": {},
     "output_type": "execute_result"
    }
   ],
   "source": [
    " df['Date_of_Publication'].isnull().sum() / len(df)\n"
   ]
  },
  {
   "cell_type": "code",
   "execution_count": 32,
   "id": "c44770dc",
   "metadata": {},
   "outputs": [
    {
     "data": {
      "text/html": [
       "<div>\n",
       "<style scoped>\n",
       "    .dataframe tbody tr th:only-of-type {\n",
       "        vertical-align: middle;\n",
       "    }\n",
       "\n",
       "    .dataframe tbody tr th {\n",
       "        vertical-align: top;\n",
       "    }\n",
       "\n",
       "    .dataframe thead th {\n",
       "        text-align: right;\n",
       "    }\n",
       "</style>\n",
       "<table border=\"1\" class=\"dataframe\">\n",
       "  <thead>\n",
       "    <tr style=\"text-align: right;\">\n",
       "      <th></th>\n",
       "      <th>Place_of_Publication</th>\n",
       "      <th>Date_of_Publication</th>\n",
       "      <th>Publisher</th>\n",
       "      <th>Title</th>\n",
       "      <th>Author</th>\n",
       "      <th>Flickr_URL</th>\n",
       "    </tr>\n",
       "    <tr>\n",
       "      <th>Identifier</th>\n",
       "      <th></th>\n",
       "      <th></th>\n",
       "      <th></th>\n",
       "      <th></th>\n",
       "      <th></th>\n",
       "      <th></th>\n",
       "    </tr>\n",
       "  </thead>\n",
       "  <tbody>\n",
       "    <tr>\n",
       "      <th>206</th>\n",
       "      <td>London</td>\n",
       "      <td>1879.0</td>\n",
       "      <td>S. Tinsley &amp; Co.</td>\n",
       "      <td>Walter Forbes. [A novel.] By A. A</td>\n",
       "      <td>A. A.</td>\n",
       "      <td>http://www.flickr.com/photos/britishlibrary/ta...</td>\n",
       "    </tr>\n",
       "    <tr>\n",
       "      <th>216</th>\n",
       "      <td>London</td>\n",
       "      <td>1868.0</td>\n",
       "      <td>Virtue &amp; Co.</td>\n",
       "      <td>All for Greed. [A novel. The dedication signed...</td>\n",
       "      <td>A., A. A.</td>\n",
       "      <td>http://www.flickr.com/photos/britishlibrary/ta...</td>\n",
       "    </tr>\n",
       "    <tr>\n",
       "      <th>218</th>\n",
       "      <td>London</td>\n",
       "      <td>1869.0</td>\n",
       "      <td>Bradbury, Evans &amp; Co.</td>\n",
       "      <td>Love the Avenger. By the author of “All for Gr...</td>\n",
       "      <td>A., A. A.</td>\n",
       "      <td>http://www.flickr.com/photos/britishlibrary/ta...</td>\n",
       "    </tr>\n",
       "  </tbody>\n",
       "</table>\n",
       "</div>"
      ],
      "text/plain": [
       "           Place_of_Publication  Date_of_Publication              Publisher  \\\n",
       "Identifier                                                                    \n",
       "206                      London               1879.0       S. Tinsley & Co.   \n",
       "216                      London               1868.0           Virtue & Co.   \n",
       "218                      London               1869.0  Bradbury, Evans & Co.   \n",
       "\n",
       "                                                        Title     Author  \\\n",
       "Identifier                                                                 \n",
       "206                         Walter Forbes. [A novel.] By A. A      A. A.   \n",
       "216         All for Greed. [A novel. The dedication signed...  A., A. A.   \n",
       "218         Love the Avenger. By the author of “All for Gr...  A., A. A.   \n",
       "\n",
       "                                                   Flickr_URL  \n",
       "Identifier                                                     \n",
       "206         http://www.flickr.com/photos/britishlibrary/ta...  \n",
       "216         http://www.flickr.com/photos/britishlibrary/ta...  \n",
       "218         http://www.flickr.com/photos/britishlibrary/ta...  "
      ]
     },
     "execution_count": 32,
     "metadata": {},
     "output_type": "execute_result"
    }
   ],
   "source": [
    "df.head(3)"
   ]
  },
  {
   "cell_type": "code",
   "execution_count": 35,
   "id": "d7610283",
   "metadata": {},
   "outputs": [
    {
     "data": {
      "text/plain": [
       "Place_of_Publication       0\n",
       "Date_of_Publication      971\n",
       "Publisher               4195\n",
       "Title                      0\n",
       "Author                  1778\n",
       "Flickr_URL                 0\n",
       "dtype: int64"
      ]
     },
     "execution_count": 35,
     "metadata": {},
     "output_type": "execute_result"
    }
   ],
   "source": [
    "# Total Null Values in the data set \n",
    "df.isnull().sum()"
   ]
  },
  {
   "cell_type": "code",
   "execution_count": 50,
   "id": "375a2d36",
   "metadata": {},
   "outputs": [
    {
     "data": {
      "text/plain": [
       "Text(0.5, 0, 'Column Names')"
      ]
     },
     "execution_count": 50,
     "metadata": {},
     "output_type": "execute_result"
    },
    {
     "data": {
      "image/png": "[encoded data removed]",
      "text/plain": [
       "<Figure size 432x288 with 1 Axes>"
      ]
     },
     "metadata": {
      "needs_background": "light"
     },
     "output_type": "display_data"
    }
   ],
   "source": [
    "# Null value % for each column\n",
    "(df.isnull().sum()/len(df)*100).plot(kind='bar')\n",
    "\n",
    "plt.xticks(rotation=45)\n",
    "plt.title(\"% of Null values in Columns\") \n",
    "plt.xlabel(\"Column Names\")"
   ]
  },
  {
   "cell_type": "code",
   "execution_count": null,
   "id": "6b22d55e",
   "metadata": {},
   "outputs": [],
   "source": []
  }
 ],
 "metadata": {
  "kernelspec": {
   "display_name": "Python 3 (ipykernel)",
   "language": "python",
   "name": "python3"
  },
  "language_info": {
   "codemirror_mode": {
    "name": "ipython",
    "version": 3
   },
   "file_extension": ".py",
   "mimetype": "text/x-python",
   "name": "python",
   "nbconvert_exporter": "python",
   "pygments_lexer": "ipython3",
   "version": "3.9.12"
  }
 },
 "nbformat": 4,
 "nbformat_minor": 5
}
